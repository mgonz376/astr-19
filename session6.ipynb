{
 "cells": [
  {
   "cell_type": "markdown",
   "id": "b8999de3-a1e3-49d6-95ae-1b9f84fda210",
   "metadata": {},
   "source": [
    "# sin and cos functions \n",
    "\n",
    "I will define two functions: one to calculate the sine of a given angle in radians and another to calculate the cosine of the same angle. \n",
    "I will then create a table of sine and cosine values for a range of angles.\n"
   ]
  },
  {
   "cell_type": "code",
   "execution_count": 1,
   "id": "c3d13438-4b57-45fd-8e90-4fecf136fb24",
   "metadata": {},
   "outputs": [],
   "source": [
    "import numpy as np\n",
    "\n",
    "def sin_function(x):\n",
    "    #takes an input x (rads) and returns the sine of x.\n",
    "    return np.sin(x)"
   ]
  },
  {
   "cell_type": "code",
   "execution_count": 2,
   "id": "1c9b58b0-1d95-4443-a427-fdfab5b6f032",
   "metadata": {},
   "outputs": [],
   "source": [
    "def cos_function(x):\n",
    "    #This function takes an input x (rads) and returns the cosine of x.\n",
    "    return np.cos(x)"
   ]
  },
  {
   "cell_type": "markdown",
   "id": "2b6133d3-bc09-4502-9c1c-63226bbcd1da",
   "metadata": {},
   "source": [
    "# tabulating sin and cos\n",
    "I am creating a set of values for x ranging from 0 to 2 (rad) with 1000 entries and use the defined sine and cosine functions to compute their values.\n"
   ]
  },
  {
   "cell_type": "code",
   "execution_count": 3,
   "id": "e96df1b6-2748-4c84-bfe3-05f0190ead54",
   "metadata": {},
   "outputs": [],
   "source": [
    "# Generate 1000 values from 0 to 2 rads\n",
    "x_values = np.linspace(0, 2, 1000)\n",
    "sin_values = []\n",
    "cos_values = []\n",
    "\n",
    "# Calculate sin and cos values for each x\n",
    "for x in x_values:\n",
    "    sin_values.append(sin_function(x))\n",
    "    cos_values.append(cos_function(x))\n"
   ]
  },
  {
   "cell_type": "markdown",
   "id": "ee11f2a8-ff9c-4b81-a353-59b7924ddc1b",
   "metadata": {},
   "source": [
    "# displaying the First 10 Values\n",
    "\n",
    "I will print the first 10 values of x along with their corresponding sin and cos values.\n"
   ]
  },
  {
   "cell_type": "code",
   "execution_count": 5,
   "id": "85a16fd9-ceb9-4820-b2ac-538b8f9bfdcb",
   "metadata": {},
   "outputs": [
    {
     "name": "stdout",
     "output_type": "stream",
     "text": [
      "x          sin(x)     cos(x)    \n",
      "0.000      0.000      1.000     \n",
      "0.002      0.002      1.000     \n",
      "0.004      0.004      1.000     \n",
      "0.006      0.006      1.000     \n",
      "0.008      0.008      1.000     \n",
      "0.010      0.010      1.000     \n",
      "0.012      0.012      1.000     \n",
      "0.014      0.014      1.000     \n",
      "0.016      0.016      1.000     \n",
      "0.018      0.018      1.000     \n"
     ]
    }
   ],
   "source": [
    "# Print the first 10 entries in a format\n",
    "\n",
    "print(f\"{'x':<10} {'sin(x)':<10} {'cos(x)':<10}\")\n",
    "for i in range(10):\n",
    "    print(f\"{x_values[i]:<10.3f} {sin_values[i]:<10.3f} {cos_values[i]:<10.3f}\")\n"
   ]
  },
  {
   "cell_type": "code",
   "execution_count": null,
   "id": "578e19aa-fff4-42bb-877d-18b7b7f2a9a6",
   "metadata": {},
   "outputs": [],
   "source": []
  }
 ],
 "metadata": {
  "kernelspec": {
   "display_name": "ASTR 19",
   "language": "python",
   "name": "astr19"
  },
  "language_info": {
   "codemirror_mode": {
    "name": "ipython",
    "version": 3
   },
   "file_extension": ".py",
   "mimetype": "text/x-python",
   "name": "python",
   "nbconvert_exporter": "python",
   "pygments_lexer": "ipython3",
   "version": "3.10.12"
  }
 },
 "nbformat": 4,
 "nbformat_minor": 5
}
